{
 "cells": [
  {
   "cell_type": "code",
   "execution_count": 33,
   "id": "9cdc4b09",
   "metadata": {},
   "outputs": [
    {
     "name": "stdout",
     "output_type": "stream",
     "text": [
      "Libs imported!\n"
     ]
    }
   ],
   "source": [
    "# import libs\n",
    "\n",
    "import pandas as pd\n",
    "import glob\n",
    "import pickle\n",
    "from tensorflow import keras\n",
    "from tensorflow.keras.preprocessing.sequence import pad_sequences\n",
    "import sklearn\n",
    "\n",
    "print('Libs imported!')"
   ]
  },
  {
   "cell_type": "code",
   "execution_count": 34,
   "id": "eb4cb8f2",
   "metadata": {},
   "outputs": [
    {
     "data": {
      "text/plain": [
       "'cameli'"
      ]
     },
     "execution_count": 34,
     "metadata": {},
     "output_type": "execute_result"
    }
   ],
   "source": [
    "# import queries\n",
    "\n",
    "queries_path = '/home/leo/Documents/Study/tweet-collector-tcc/src/data/queries.csv'\n",
    "\n",
    "queries = pd.read_csv(queries_path)['Termo de busca']\n",
    "\n",
    "queries[0]"
   ]
  },
  {
   "cell_type": "code",
   "execution_count": 35,
   "id": "cb131e11",
   "metadata": {},
   "outputs": [
    {
     "ename": "ModuleNotFoundError",
     "evalue": "No module named 'sklearn.linear_model.logistic'",
     "output_type": "error",
     "traceback": [
      "\u001b[0;31m---------------------------------------------------------------------------\u001b[0m",
      "\u001b[0;31mModuleNotFoundError\u001b[0m                       Traceback (most recent call last)",
      "\u001b[0;32m/tmp/ipykernel_107848/1265218132.py\u001b[0m in \u001b[0;36m<module>\u001b[0;34m\u001b[0m\n\u001b[1;32m      8\u001b[0m \u001b[0;34m\u001b[0m\u001b[0m\n\u001b[1;32m      9\u001b[0m \u001b[0;32mwith\u001b[0m \u001b[0mopen\u001b[0m\u001b[0;34m(\u001b[0m\u001b[0mcwd\u001b[0m \u001b[0;34m+\u001b[0m \u001b[0;34m\"tash-logisticregression.pickle\"\u001b[0m\u001b[0;34m,\u001b[0m \u001b[0;34m\"rb\"\u001b[0m\u001b[0;34m)\u001b[0m \u001b[0;32mas\u001b[0m \u001b[0minput_file\u001b[0m\u001b[0;34m:\u001b[0m\u001b[0;34m\u001b[0m\u001b[0;34m\u001b[0m\u001b[0m\n\u001b[0;32m---> 10\u001b[0;31m     \u001b[0mclassifier\u001b[0m \u001b[0;34m=\u001b[0m \u001b[0mpickle\u001b[0m\u001b[0;34m.\u001b[0m\u001b[0mload\u001b[0m\u001b[0;34m(\u001b[0m\u001b[0minput_file\u001b[0m\u001b[0;34m)\u001b[0m\u001b[0;34m\u001b[0m\u001b[0;34m\u001b[0m\u001b[0m\n\u001b[0m\u001b[1;32m     11\u001b[0m \u001b[0;34m\u001b[0m\u001b[0m\n\u001b[1;32m     12\u001b[0m \u001b[0;32mwith\u001b[0m \u001b[0mopen\u001b[0m\u001b[0;34m(\u001b[0m\u001b[0mcwd\u001b[0m \u001b[0;34m+\u001b[0m \u001b[0;34m\"tash-vectorizer.pickle\"\u001b[0m\u001b[0;34m,\u001b[0m \u001b[0;34m\"rb\"\u001b[0m\u001b[0;34m)\u001b[0m \u001b[0;32mas\u001b[0m \u001b[0minput_file\u001b[0m\u001b[0;34m:\u001b[0m\u001b[0;34m\u001b[0m\u001b[0;34m\u001b[0m\u001b[0m\n",
      "\u001b[0;31mModuleNotFoundError\u001b[0m: No module named 'sklearn.linear_model.logistic'"
     ]
    }
   ],
   "source": [
    "# Open classification models\n",
    "\n",
    "cwd = '/home/leo/Documents/Study/tweet-collector-tcc/src/tweetsentbr/'\n",
    "MAX_SEQUENCE_LENGTH = 100\n",
    "\n",
    "\n",
    "# model = keras.models.load_model(cwd + \"tweetsentbr80-bi-gru.h5\")\n",
    "\n",
    "with open(cwd + \"tash-logisticregression.pickle\", \"rb\") as input_file:\n",
    "    classifier = pickle.load(input_file)\n",
    "\n",
    "with open(cwd + \"tash-vectorizer.pickle\", \"rb\") as input_file:\n",
    "    vectorizer = pickle.load(input_file)\n",
    "\n",
    "with open(cwd + 'tweetsentbr80-tokenizer.pkl', 'rb') as input_file:\n",
    "    tokenizer = pickle.load(input_file)"
   ]
  },
  {
   "cell_type": "code",
   "execution_count": null,
   "id": "785785ab",
   "metadata": {},
   "outputs": [],
   "source": [
    "# Classification function\n",
    "\n",
    "def tash_logisticregression(tweet_text):\n",
    "    labels = {\n",
    "        -1: \"Negativo\",\n",
    "        0: \"Neutro\",\n",
    "        1: \"Positivo\"\n",
    "    }\n",
    "    X_vectorized = vectorizer.transform([tweet_text])\n",
    "\n",
    "    predict = classifier.predict(X_vectorized)\n",
    "\n",
    "    return labels.get(predict[0], \"NaN\")"
   ]
  },
  {
   "cell_type": "code",
   "execution_count": 12,
   "id": "2902daaa",
   "metadata": {},
   "outputs": [],
   "source": [
    "# import CSVs\n",
    "\n",
    "root_path = '/home/leo/Documents/Study/tweet-collector-tcc/src/output/merged'\n",
    "datasets = []\n",
    "\n",
    "for query in queries:\n",
    "    all_files = glob.glob(root_path + \"/\" + query + \"/*.csv\")\n",
    "    \n",
    "    li = []\n",
    "\n",
    "    for filename in all_files:\n",
    "        df = pd.read_csv(filename, index_col=None, header=0)\n",
    "        li.append(df)\n",
    "\n",
    "    frame = pd.concat(li, axis=0, ignore_index=True)\n",
    "    datasets.append(frame)\n",
    "#     frame.to_csv('/home/leo/Documents/Study/tweet-collector-tcc/src/data/merged_csvs/' + query + '.csv')\n",
    "    \n"
   ]
  },
  {
   "cell_type": "code",
   "execution_count": null,
   "id": "2704fb77",
   "metadata": {},
   "outputs": [],
   "source": [
    "# for each dataset(politician)\n",
    "# remove duplicates tweets |\n",
    "# run sentiment analysis\n",
    "\n",
    "for dataset in datasets:\n",
    "    tweets = list(set(dataset.text))\n",
    "    \n",
    "    \n",
    "\n"
   ]
  }
 ],
 "metadata": {
  "kernelspec": {
   "display_name": "Python 3 (ipykernel)",
   "language": "python",
   "name": "python3"
  },
  "language_info": {
   "codemirror_mode": {
    "name": "ipython",
    "version": 3
   },
   "file_extension": ".py",
   "mimetype": "text/x-python",
   "name": "python",
   "nbconvert_exporter": "python",
   "pygments_lexer": "ipython3",
   "version": "3.8.10"
  }
 },
 "nbformat": 4,
 "nbformat_minor": 5
}
